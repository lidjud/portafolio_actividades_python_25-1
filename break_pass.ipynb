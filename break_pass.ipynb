{
  "nbformat": 4,
  "nbformat_minor": 0,
  "metadata": {
    "colab": {
      "provenance": [],
      "authorship_tag": "ABX9TyMhwbWLzP7gpUSB9MELCuBy",
      "include_colab_link": true
    },
    "kernelspec": {
      "name": "python3",
      "display_name": "Python 3"
    },
    "language_info": {
      "name": "python"
    }
  },
  "cells": [
    {
      "cell_type": "markdown",
      "metadata": {
        "id": "view-in-github",
        "colab_type": "text"
      },
      "source": [
        "<a href=\"https://colab.research.google.com/github/lidjud/portafolio_actividades_python_25-1/blob/main/break_pass.ipynb\" target=\"_parent\"><img src=\"https://colab.research.google.com/assets/colab-badge.svg\" alt=\"Open In Colab\"/></a>"
      ]
    },
    {
      "cell_type": "code",
      "execution_count": 9,
      "metadata": {
        "colab": {
          "base_uri": "https://localhost:8080/"
        },
        "id": "DZ-CKEz0MuM2",
        "outputId": "1d1e7dcd-7350-4fdb-8dc7-0d7b6ba81e07"
      },
      "outputs": [
        {
          "output_type": "stream",
          "name": "stdout",
          "text": [
            "0\n"
          ]
        }
      ],
      "source": [
        "for i in range(5):\n",
        "    print(i)\n",
        "    break\n",
        "    # No llega\n",
        "\n",
        "# Salida: 0"
      ]
    },
    {
      "cell_type": "code",
      "source": [
        "cadena = 'Python'\n",
        "for letra in cadena:\n",
        "    if letra == 'h':\n",
        "        print(\"Se encontró la h\")\n",
        "        break\n",
        "    print(letra)\n",
        "\n",
        "# Salida:\n",
        "# P\n",
        "# y\n",
        "# t\n",
        "# Se encontró la h"
      ],
      "metadata": {
        "colab": {
          "base_uri": "https://localhost:8080/"
        },
        "id": "mwcMqcXlM27L",
        "outputId": "97852e20-0fd7-4e00-a1c4-e627f7f6e362"
      },
      "execution_count": 10,
      "outputs": [
        {
          "output_type": "stream",
          "name": "stdout",
          "text": [
            "P\n",
            "y\n",
            "t\n",
            "Se encontró la h\n"
          ]
        }
      ]
    },
    {
      "cell_type": "code",
      "source": [
        "x = 5\n",
        "while True:\n",
        "    x -= 1\n",
        "    print(x)\n",
        "    if x == 3:\n",
        "        break\n",
        "print(\"Fin del bucle\")\n",
        "\n",
        "#4, 3, 2, 1, 0"
      ],
      "metadata": {
        "colab": {
          "base_uri": "https://localhost:8080/"
        },
        "id": "ud0NUmhlM7pz",
        "outputId": "8ec0c4c9-243f-413d-b789-ada4953e4889"
      },
      "execution_count": 14,
      "outputs": [
        {
          "output_type": "stream",
          "name": "stdout",
          "text": [
            "4\n",
            "3\n",
            "Fin del bucle\n"
          ]
        }
      ]
    },
    {
      "cell_type": "code",
      "source": [
        "for i in range(0, 4): #i=1\n",
        "    for j in range(0, 4): #j=0\n",
        "        break\n",
        "        #Nunca se realiza más de una iteración\n",
        "    # El break no afecta a este for\n",
        "    print(i, j)\n",
        "\n",
        "# 0 0\n",
        "# 1 0\n",
        "# 2 0\n",
        "# 3 0"
      ],
      "metadata": {
        "colab": {
          "base_uri": "https://localhost:8080/"
        },
        "id": "gHDT8bKSM9nz",
        "outputId": "8668412f-5e5e-4b39-a887-c0b613f2d248"
      },
      "execution_count": 15,
      "outputs": [
        {
          "output_type": "stream",
          "name": "stdout",
          "text": [
            "0 0\n",
            "1 0\n",
            "2 0\n",
            "3 0\n"
          ]
        }
      ]
    },
    {
      "cell_type": "code",
      "source": [
        "cadena = 'Python'\n",
        "for letra in cadena:\n",
        "    if letra == 'h':\n",
        "        continue\n",
        "    print(letra)\n",
        "# Salida:\n",
        "# y\n",
        "# t\n",
        "# h\n",
        "# o\n",
        "# n"
      ],
      "metadata": {
        "colab": {
          "base_uri": "https://localhost:8080/"
        },
        "id": "YY5ThgRCNAOj",
        "outputId": "8e7eae1c-cfbe-40b3-ea61-9ed5ad82b723"
      },
      "execution_count": 17,
      "outputs": [
        {
          "output_type": "stream",
          "name": "stdout",
          "text": [
            "P\n",
            "y\n",
            "t\n",
            "o\n",
            "n\n"
          ]
        }
      ]
    },
    {
      "cell_type": "code",
      "source": [
        "x = 5\n",
        "while x > 0:\n",
        "    x -= 1  #x=3\n",
        "    if x == 3:\n",
        "        continue\n",
        "    print(x)\n",
        "\n",
        "#Salida: 4, 2, 1, 0"
      ],
      "metadata": {
        "colab": {
          "base_uri": "https://localhost:8080/"
        },
        "id": "qez2dpttNCCE",
        "outputId": "0c3ca292-9c63-47c9-805c-c3956fbf8de4"
      },
      "execution_count": 18,
      "outputs": [
        {
          "output_type": "stream",
          "name": "stdout",
          "text": [
            "4\n",
            "2\n",
            "1\n",
            "0\n"
          ]
        }
      ]
    },
    {
      "cell_type": "code",
      "source": [],
      "metadata": {
        "id": "AKliszGENhzT"
      },
      "execution_count": null,
      "outputs": []
    }
  ]
}