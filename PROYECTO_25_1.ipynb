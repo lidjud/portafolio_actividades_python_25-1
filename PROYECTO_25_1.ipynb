{
  "nbformat": 4,
  "nbformat_minor": 0,
  "metadata": {
    "colab": {
      "provenance": [],
      "authorship_tag": "ABX9TyNr0R2hb5PtdEu3GfQyYc2x",
      "include_colab_link": true
    },
    "kernelspec": {
      "name": "python3",
      "display_name": "Python 3"
    },
    "language_info": {
      "name": "python"
    }
  },
  "cells": [
    {
      "cell_type": "markdown",
      "metadata": {
        "id": "view-in-github",
        "colab_type": "text"
      },
      "source": [
        "<a href=\"https://colab.research.google.com/github/lidjud/portafolio_actividades_python_25-1/blob/main/PROYECTO_25_1.ipynb\" target=\"_parent\"><img src=\"https://colab.research.google.com/assets/colab-badge.svg\" alt=\"Open In Colab\"/></a>"
      ]
    },
    {
      "cell_type": "markdown",
      "source": [
        "## PROYECTO FINAL DE PYTHON"
      ],
      "metadata": {
        "id": "UFP5zV-qQkI8"
      }
    },
    {
      "cell_type": "markdown",
      "source": [
        "Proyecto: **Juego de Comparación de Seguidores en Instagram**\n",
        "Objetivo\n",
        "Crear un juego en el que el usuario debe adivinar cuál de dos opciones tiene más seguidores en Instagram, utilizando una lista de diccionarios para almacenar los datos de las celebridades o entidades.\n",
        "\n",
        "Estructura del Proyecto\n",
        "Importar Módulos Necesarios\n",
        "\n",
        "Usaremos random para seleccionar elementos aleatorios.\n",
        "Crear una Lista de Diccionarios\n",
        "\n",
        "Cada diccionario representará una entidad (celebridad, marca, etc.) y contendrá su nombre, número de seguidores en Instagram, una breve descripción y su país de origen.\n",
        "\n",
        "Función Principal del Juego\n",
        "\n",
        "1. Seleccionar aleatoriamente dos entidades de la lista.\n",
        "2. Preguntar al usuario cuál tiene más seguidores.\n",
        "3. Comprobar la respuesta del usuario.\n",
        "4. Actualizar el puntaje y continuar el juego o finalizar si la respuesta es incorrecta.\n",
        "\n",
        "Sugerencias Adicionales:\n",
        "\n",
        "*   Pueden añadir más elementos a la lista para diversificar el juego.\n",
        "*   Consideren implementar una opción para reiniciar el juego."
      ],
      "metadata": {
        "id": "96HY-8qqQoK7"
      }
    },
    {
      "cell_type": "code",
      "execution_count": null,
      "metadata": {
        "id": "pZGEc8dxQV-6"
      },
      "outputs": [],
      "source": [
        "# Define aquí tus imports\n",
        "\n",
        "\n",
        "# Lista de Datos: Se define una lista llamada datos que contiene diccionarios con nombres y seguidores.\n",
        "datos = [\n",
        "    {\n",
        "        \"nombre\" : \"Dodgers\",\n",
        "        \"seg_instagram\" : 4300000,\n",
        "        \"descripcion\": \"Equipo profesional de béisbol originario de Estados Unidos, con sede en Los Ángeles, California\",\n",
        "        \"pais\" : \"Estados Unidos\"\n",
        "    },\n",
        "    {\n",
        "        \"nombre\" : \"Shakira\",\n",
        "        \"seg_instagram\" : 90400000,\n",
        "        \"descripcion\": \"Cantante, compositora, productora, bailarina, multinstrumentista, empresaria y actriz colombiana.\",\n",
        "        \"pais\" : \"Colombia\"\n",
        "    },\n",
        "    {\n",
        "        \"nombre\" : \"Kim Kardashian\",\n",
        "        \"seg_instagram\" : 364000000,\n",
        "        \"descripcion\": \"Socialite, modelo y empresaria estadounidense.\",\n",
        "        \"pais\" : \"Estados Unidos\"\n",
        "    },\n",
        "    {\n",
        "        \"nombre\" : \"Taj mahal\",\n",
        "        \"seg_instagram\" : 12400,\n",
        "        \"descripcion\": \"Monumento funerario construido entre 1632 y 1654 en la ciudad de Agra por el emperador musulmán Shah Jahan de la dinastía mogol en honor de su esposa favorita\",\n",
        "        \"pais\" : \"India\"\n",
        "    },\n",
        "    {\n",
        "        \"nombre\" : \"Mark Zuckerberg\",\n",
        "        \"seg_instagram\" : 15100000,\n",
        "        \"descripcion\": \"Programador y empresario Estadounidense uno de los creadores y fundadores de Facebook y la red social homónima, y su actual presidente.\",\n",
        "        \"pais\" : \"Estados Unidos\"\n",
        "    },\n",
        "    {\n",
        "        \"nombre\" : \"Tesla Motors\",\n",
        "        \"seg_instagram\" : 9600000,\n",
        "        \"descripcion\": \"Electric vehicles, giant batteries & solar, AI & robotics.\",\n",
        "        \"pais\" : \"Estados Unidos\"\n",
        "    },\n",
        "    {\n",
        "        \"nombre\" : \"Donald J. Trump\",\n",
        "        \"seg_instagram\" : 26700000,\n",
        "        \"descripcion\": \"45th President of the United States.\",\n",
        "        \"pais\" : \"Estados Unidos\"\n",
        "    },\n",
        "    {\n",
        "        \"nombre\" : \"Cristiano Ronaldo\",\n",
        "        \"seg_instagram\" : 626100000,\n",
        "        \"descripcion\": \"Futbolista portugués. Juega como extremo izquierdo o delantero y su equipo actual es el Al-Nassr F. C. de la Liga Profesional Saudí.\",\n",
        "        \"pais\" : \"Portugal\"\n",
        "    }\n",
        "]\n",
        "\n",
        "def juego():\n",
        "    \"\"\"Función juego(): Controla el flujo del juego.\"\"\"\n",
        "    #Se inicializa el score a 0 y se establece un bucle que continúa hasta que el usuario falle.\n",
        "    score = 0\n",
        "    juego_en_curso = True\n",
        "\n",
        "    while juego_en_curso:\n",
        "        # Selecciona dos elementos aleatorios\n",
        "        opcion1, opcion2 = random.sample(datos, 2)\n",
        "\n",
        "        print(f\"\\n¿Quién tiene más seguidores en Instagram?\")\n",
        "        print(f\"A) {opcion1['nombre']} : {opcion1['descripcion']} de {opcion1['pais']}\")\n",
        "        print(f\"B) {opcion2['nombre']} : {opcion2['descripcion']} de {opcion2['pais']}\")\n",
        "\n",
        "        # Obtener respuesta del usuario\n",
        "        respuesta = input(\"Escribe 'A' o 'B': \").strip().upper()\n",
        "\n",
        "        # Comprobar la respuesta\n",
        "        # (Aquí falta la lógica para comprobar la respuesta)\n",
        "\n",
        "    # (Aquí falta el mensaje final de puntaje)\n",
        "\n",
        "# Iniciar el juego\n",
        "if __name__ == \"__main__\":\n",
        "    # (Aquí falta la llamada a la función juego)"
      ]
    }
  ]
}