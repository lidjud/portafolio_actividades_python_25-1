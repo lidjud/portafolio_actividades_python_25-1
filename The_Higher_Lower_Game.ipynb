{
  "nbformat": 4,
  "nbformat_minor": 0,
  "metadata": {
    "colab": {
      "provenance": [],
      "authorship_tag": "ABX9TyNFSlGiYDNbXvksLVyFEUmu",
      "include_colab_link": true
    },
    "kernelspec": {
      "name": "python3",
      "display_name": "Python 3"
    },
    "language_info": {
      "name": "python"
    }
  },
  "cells": [
    {
      "cell_type": "markdown",
      "metadata": {
        "id": "view-in-github",
        "colab_type": "text"
      },
      "source": [
        "<a href=\"https://colab.research.google.com/github/lidjud/portafolio_actividades_python_25-1/blob/main/The_Higher_Lower_Game.ipynb\" target=\"_parent\"><img src=\"https://colab.research.google.com/assets/colab-badge.svg\" alt=\"Open In Colab\"/></a>"
      ]
    },
    {
      "cell_type": "markdown",
      "source": [
        "# Prepara tus datos 🙂"
      ],
      "metadata": {
        "id": "G2AtIvBS2SMK"
      }
    },
    {
      "cell_type": "markdown",
      "source": [
        "Para el día lunes, realicen diez diccionarios anidados en una lista.\n",
        "\n",
        "Cada diccionario debe tener 4 llaves:\n",
        "\n",
        "\n",
        "1.   **nombre**, nombre de una persona, lugar, celebración, lugar, concepto, etc.\n",
        "2.   **seg_instagram**, número de seguidores en instagram, si no cuentan con instagram pueden googlear y buscar la información.\n",
        "3.   **descripcion**, breve descripción del sustantivo que utilizaron en la llave \"nombre\".\n",
        "4.   **pais**, país de origen del sustantivo que utilizaron en la llave \"nombre\".\n",
        "\n",
        "\n",
        "En seguida les dejo un ejemplo de cómo tiene que quedar la lista, el ejemplo incluye solo 3 diccionarios.\n"
      ],
      "metadata": {
        "id": "k2dC31Puv6gB"
      }
    },
    {
      "cell_type": "code",
      "execution_count": null,
      "metadata": {
        "id": "e8N2TdJ8rmvL"
      },
      "outputs": [],
      "source": [
        "base_datos = [\n",
        "    {\n",
        "        \"nombre\" : \"Dodgers\",\n",
        "        \"seg_instagram\" : 4, 300, 000,\n",
        "        \"descripcion\": \"Equipo profesional de béisbol originario de Estados Unidos, con sede en Los Ángeles, California\",\n",
        "        \"pais\" : \"Estados Unidos\"\n",
        "    },\n",
        "    {\n",
        "        \"nombre\" : \"Shakira\",\n",
        "        \"seg_instagram\" : 90, 400, 000,\n",
        "        \"descripcion\": \"Cantante, compositora, productora, bailarina, multinstrumentista, empresaria y actriz colombiana.\",\n",
        "        \"pais\" : \"Colombia\"\n",
        "    },\n",
        "    {\n",
        "        \"nombre\" : \"Kim Kardashian\",\n",
        "        \"seg_instagram\" : 360, 000, 000,\n",
        "        \"descripcion\": \"Socialite, modelo y empresaria estadounidense.\",\n",
        "        \"pais\" : \"Estados Unidos\"\n",
        "    }\n",
        "]"
      ]
    },
    {
      "cell_type": "code",
      "source": [
        "from IPython.display import display, HTML\n",
        "\n",
        "mensaje = \"\"\"\n",
        "<div style=\"text-align: center; font-size: 24px; color: #4CAF50;\n",
        "    animation: move 15s linear infinite;\">\n",
        "    <strong>¡Buena suerte!</strong><br>\n",
        "    <span style=\"font-size: 20px; color: #FF5722;\">Prepárate bien y confía en tus habilidades.</span><br>\n",
        "</div>\n",
        "\n",
        "<style>\n",
        "@keyframes move {\n",
        "    0% { transform: translateX(-100%); }\n",
        "    50% { transform: translateX(0); }\n",
        "    100% { transform: translateX(100%); }\n",
        "}\n",
        "</style>\n",
        "\"\"\"\n",
        "\n",
        "display(HTML(mensaje))"
      ],
      "metadata": {
        "colab": {
          "base_uri": "https://localhost:8080/",
          "height": 77
        },
        "id": "0pc4w1Z50rIa",
        "outputId": "b2d7cba8-8694-44d6-c8a0-2427299d3d24"
      },
      "execution_count": 8,
      "outputs": [
        {
          "output_type": "display_data",
          "data": {
            "text/plain": [
              "<IPython.core.display.HTML object>"
            ],
            "text/html": [
              "\n",
              "<div style=\"text-align: center; font-size: 24px; color: #4CAF50; \n",
              "    animation: move 15s linear infinite;\">\n",
              "    <strong>¡Buena suerte!</strong><br>\n",
              "    <span style=\"font-size: 20px; color: #FF5722;\">Prepárate bien y confía en tus habilidades.</span><br>\n",
              "</div>\n",
              "\n",
              "<style>\n",
              "@keyframes move {\n",
              "    0% { transform: translateX(-100%); }\n",
              "    50% { transform: translateX(0); }\n",
              "    100% { transform: translateX(100%); }\n",
              "}\n",
              "</style>\n"
            ]
          },
          "metadata": {}
        }
      ]
    },
    {
      "cell_type": "code",
      "source": [],
      "metadata": {
        "id": "YurIQdVY08_6"
      },
      "execution_count": null,
      "outputs": []
    }
  ]
}