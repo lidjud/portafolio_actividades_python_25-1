{
  "nbformat": 4,
  "nbformat_minor": 0,
  "metadata": {
    "colab": {
      "provenance": [],
      "authorship_tag": "ABX9TyPh75dhKqEBrGcWM9YG4+ow",
      "include_colab_link": true
    },
    "kernelspec": {
      "name": "python3",
      "display_name": "Python 3"
    },
    "language_info": {
      "name": "python"
    }
  },
  "cells": [
    {
      "cell_type": "markdown",
      "metadata": {
        "id": "view-in-github",
        "colab_type": "text"
      },
      "source": [
        "<a href=\"https://colab.research.google.com/github/lidjud/portafolio_actividades_python_25-1/blob/main/Funciones_y_Diccionarios.ipynb\" target=\"_parent\"><img src=\"https://colab.research.google.com/assets/colab-badge.svg\" alt=\"Open In Colab\"/></a>"
      ]
    },
    {
      "cell_type": "markdown",
      "source": [
        "# Funciones en Python"
      ],
      "metadata": {
        "id": "Tzmjs0F_CzTN"
      }
    },
    {
      "cell_type": "markdown",
      "source": [
        "Anteriormente hemos usado funciones nativas que vienen con Python como len() para calcular la longitud de una lista, pero al igual que en otros lenguajes de programación, también podemos definir nuestras propias funciones. Para ello hacemos uso de def."
      ],
      "metadata": {
        "id": "lbFYZHhcC3nr"
      }
    },
    {
      "cell_type": "code",
      "execution_count": null,
      "metadata": {
        "id": "47fJRdjPCyE3"
      },
      "outputs": [],
      "source": [
        "def nombre_funcion(argumentos):\n",
        "    código\n",
        "    return retorno"
      ]
    },
    {
      "cell_type": "code",
      "source": [
        "def f(x):\n",
        "    return 2*x\n",
        "y = f(3)\n",
        "print(y) # 6"
      ],
      "metadata": {
        "id": "DkqjDP84C8sT"
      },
      "execution_count": null,
      "outputs": []
    },
    {
      "cell_type": "markdown",
      "source": [
        "## Pasando argumentos de entrada"
      ],
      "metadata": {
        "id": "gxk02rPpDFET"
      }
    },
    {
      "cell_type": "code",
      "source": [
        "def di_hola():\n",
        "    print(\"Hola\")"
      ],
      "metadata": {
        "id": "fh1E86eADFtj"
      },
      "execution_count": null,
      "outputs": []
    },
    {
      "cell_type": "code",
      "source": [
        "di_hola() # Hola"
      ],
      "metadata": {
        "id": "TeO94OUjDINb"
      },
      "execution_count": null,
      "outputs": []
    },
    {
      "cell_type": "code",
      "source": [
        "def di_hola(nombre):\n",
        "    print(\"Hola\", nombre)\n",
        "\n",
        "di_hola(\"Juan\")\n",
        "# Hola Juan"
      ],
      "metadata": {
        "id": "_6pxnMR0DKAb"
      },
      "execution_count": null,
      "outputs": []
    },
    {
      "cell_type": "markdown",
      "source": [
        "## Argumentos por posición"
      ],
      "metadata": {
        "id": "u8-z_8IsDN6r"
      }
    },
    {
      "cell_type": "code",
      "source": [
        "def resta(a, b):\n",
        "    return a-b\n",
        "resta(5, 3) # 2"
      ],
      "metadata": {
        "id": "Zn44bSNTDOhT"
      },
      "execution_count": null,
      "outputs": []
    },
    {
      "cell_type": "code",
      "source": [
        "#resta(1) # Error! TypeError"
      ],
      "metadata": {
        "id": "nhfMZVjMDSVq"
      },
      "execution_count": null,
      "outputs": []
    },
    {
      "cell_type": "code",
      "source": [
        "#TypeError: resta() takes 2 positional arguments but 3 were given\n",
        "#resta(5,4,3) # Error"
      ],
      "metadata": {
        "id": "ogZSHE-SDnUK"
      },
      "execution_count": null,
      "outputs": []
    },
    {
      "cell_type": "code",
      "source": [
        "resta(a=3, b=5) # -2"
      ],
      "metadata": {
        "id": "TREsGn2dDok7"
      },
      "execution_count": null,
      "outputs": []
    },
    {
      "cell_type": "code",
      "source": [
        "resta(b=5, a=3) # -2"
      ],
      "metadata": {
        "id": "J9PVqdJzDreM"
      },
      "execution_count": null,
      "outputs": []
    },
    {
      "cell_type": "code",
      "source": [
        "#resta() got an unexpected keyword argument 'c'\n",
        "#resta(b=5, c=3) # Error!"
      ],
      "metadata": {
        "id": "eGd_cF8-DsxE"
      },
      "execution_count": null,
      "outputs": []
    },
    {
      "cell_type": "markdown",
      "source": [
        "## Argumentos por defecto"
      ],
      "metadata": {
        "id": "MaY-OKzWDvHb"
      }
    },
    {
      "cell_type": "code",
      "source": [
        "def suma(a, b, c=0):\n",
        "    return a+b+c\n",
        "suma(5,5,3) # 13"
      ],
      "metadata": {
        "id": "WP9L77_NDuul"
      },
      "execution_count": null,
      "outputs": []
    },
    {
      "cell_type": "code",
      "source": [
        "suma(4,3) # 7"
      ],
      "metadata": {
        "id": "mZLV0vp8DzGz"
      },
      "execution_count": null,
      "outputs": []
    },
    {
      "cell_type": "code",
      "source": [
        "def suma(a=3, b=5, c=0):\n",
        "    return a+b+c\n",
        "suma() # 8"
      ],
      "metadata": {
        "id": "C_Q6ZIv1DzkT"
      },
      "execution_count": null,
      "outputs": []
    },
    {
      "cell_type": "markdown",
      "source": [
        "## Argumentos de longitud variable"
      ],
      "metadata": {
        "id": "GD1HrZEaD7Lb"
      }
    },
    {
      "cell_type": "code",
      "source": [
        "def suma(numeros):\n",
        "    total = 0\n",
        "    for n in numeros:\n",
        "        total += n\n",
        "    return total\n",
        "suma([1,3,5,4]) # 13"
      ],
      "metadata": {
        "id": "2KFAlhfzD72D"
      },
      "execution_count": null,
      "outputs": []
    },
    {
      "cell_type": "markdown",
      "source": [
        "# Diccionarios"
      ],
      "metadata": {
        "id": "GGO0CG48EzqM"
      }
    },
    {
      "cell_type": "markdown",
      "source": [
        "Los diccionarios se utilizan para almacenar valores de datos en pares clave:valor.\n",
        "\n",
        "Un diccionario es una colección ordenada, modificable y que no admite duplicados.\n",
        "\n",
        "Los diccionarios se escriben con corchetes y tienen claves y valores:"
      ],
      "metadata": {
        "id": "qXLj6BQDE2yk"
      }
    },
    {
      "cell_type": "code",
      "source": [
        "cars_dict = {\n",
        "  \"brand\": \"Ford\",\n",
        "  \"model\": \"Mustang\",\n",
        "  \"year\": 1964\n",
        "}\n",
        "print(cars_dict)"
      ],
      "metadata": {
        "id": "oZcirgMwE080"
      },
      "execution_count": null,
      "outputs": []
    },
    {
      "cell_type": "markdown",
      "source": [
        "Se puede hacer referencia a los elementos mediante el nombre de la clave"
      ],
      "metadata": {
        "id": "fC8huCikE-Sb"
      }
    },
    {
      "cell_type": "code",
      "source": [
        "cars_dict = {\n",
        "  \"brand\": \"Ford\",\n",
        "  \"model\": \"Mustang\",\n",
        "  \"year\": 1964\n",
        "}\n",
        "print(cars_dict[\"brand\"])"
      ],
      "metadata": {
        "id": "BIo6iJJvE53L"
      },
      "execution_count": null,
      "outputs": []
    },
    {
      "cell_type": "markdown",
      "source": [
        "Los diccionarios no pueden tener dos elementos con la misma clave:"
      ],
      "metadata": {
        "id": "NK32bHkCFDDj"
      }
    },
    {
      "cell_type": "code",
      "source": [
        "cars_dict = {\n",
        "  \"brand\": \"Ford\",\n",
        "  \"model\": \"Mustang\",\n",
        "  \"year\": 1964,\n",
        "  \"year\": 2020\n",
        "}\n",
        "print(cars_dict)"
      ],
      "metadata": {
        "id": "NfEzzQmUFDvq"
      },
      "execution_count": null,
      "outputs": []
    },
    {
      "cell_type": "code",
      "source": [
        "print(len(cars_dict))"
      ],
      "metadata": {
        "id": "P_6vlFe3FIBj"
      },
      "execution_count": null,
      "outputs": []
    },
    {
      "cell_type": "markdown",
      "source": [
        "Los valores en los elementos del diccionario pueden ser de cualquier tipo de datos:"
      ],
      "metadata": {
        "id": "5Ae5-M3BFUzr"
      }
    },
    {
      "cell_type": "code",
      "source": [
        "cars_dict = {\n",
        "  \"brand\": \"Ford\",\n",
        "  \"electric\": False,\n",
        "  \"year\": 1964,\n",
        "  \"colors\": [\"red\", \"white\", \"blue\"]\n",
        "}\n",
        "print(cars_dict)"
      ],
      "metadata": {
        "id": "6AtMTS5CFUWT"
      },
      "execution_count": null,
      "outputs": []
    },
    {
      "cell_type": "markdown",
      "source": [
        "Puedes acceder a los elementos de un diccionario haciendo referencia a su nombre clave, entre corchetes:"
      ],
      "metadata": {
        "id": "xLb5B422FZNc"
      }
    },
    {
      "cell_type": "code",
      "source": [
        "cars_dict = {\n",
        "  \"brand\": \"Ford\",\n",
        "  \"model\": \"Mustang\",\n",
        "  \"year\": 1964,\n",
        "  \"colors\": [\"red\", \"white\", \"blue\"]\n",
        "}\n",
        "x = cars_dict[\"model\"]\n",
        "x"
      ],
      "metadata": {
        "id": "eQMUNqP2FZuU"
      },
      "execution_count": null,
      "outputs": []
    },
    {
      "cell_type": "markdown",
      "source": [
        "También hay un método llamado get() que te dará el mismo resultado:"
      ],
      "metadata": {
        "id": "dZJFiVCwFfSr"
      }
    },
    {
      "cell_type": "code",
      "source": [
        "x = cars_dict.get(\"colors\")\n",
        "x"
      ],
      "metadata": {
        "id": "anfUz327Fihq"
      },
      "execution_count": null,
      "outputs": []
    },
    {
      "cell_type": "markdown",
      "source": [
        "El método keys() devolverá una lista de todas las claves del diccionario."
      ],
      "metadata": {
        "id": "FjGFojjuFmv0"
      }
    },
    {
      "cell_type": "code",
      "source": [
        "x = cars_dict.keys()\n",
        "x"
      ],
      "metadata": {
        "id": "RfN2gvZXFmT8"
      },
      "execution_count": null,
      "outputs": []
    },
    {
      "cell_type": "code",
      "source": [
        "car = {\n",
        "\"brand\": \"Ford\",\n",
        "\"model\": \"Mustang\",\n",
        "\"year\": 1964\n",
        "}\n",
        "\n",
        "x = car.keys()\n",
        "\n",
        "print(x) #before the change\n",
        "\n",
        "car[\"color\"] = \"white\"\n",
        "\n",
        "print(x) #after the change"
      ],
      "metadata": {
        "id": "rYKWBPpwFqdc"
      },
      "execution_count": null,
      "outputs": []
    },
    {
      "cell_type": "markdown",
      "source": [
        "El método values() devolverá una lista de todos los valores en el diccionario."
      ],
      "metadata": {
        "id": "n7o8Cyp3FwXT"
      }
    },
    {
      "cell_type": "code",
      "source": [
        "x = cars_dict.values()\n",
        "x"
      ],
      "metadata": {
        "id": "Kq5cs-9eFxrN"
      },
      "execution_count": null,
      "outputs": []
    },
    {
      "cell_type": "code",
      "source": [
        "car = {\n",
        "\"brand\": \"Ford\",\n",
        "\"model\": \"Mustang\",\n",
        "\"year\": 1964\n",
        "}\n",
        "\n",
        "x = car.values()\n",
        "\n",
        "print(x) #before the change\n",
        "\n",
        "car[\"year\"] = 2020\n",
        "\n",
        "print(x) #after the change"
      ],
      "metadata": {
        "id": "V7y2qtP-F7dd"
      },
      "execution_count": null,
      "outputs": []
    },
    {
      "cell_type": "code",
      "source": [
        "car = {\n",
        "\"brand\": \"Ford\",\n",
        "\"model\": \"Mustang\",\n",
        "\"year\": 1964\n",
        "}\n",
        "\n",
        "x = car.values()\n",
        "\n",
        "print(x) #before the change\n",
        "\n",
        "car[\"color\"] = \"red\"\n",
        "\n",
        "print(x) #after the change"
      ],
      "metadata": {
        "id": "l883eS3fF9Q-"
      },
      "execution_count": null,
      "outputs": []
    },
    {
      "cell_type": "markdown",
      "source": [
        "El método items() devolverá cada elemento en un diccionario, como tuplas en una lista."
      ],
      "metadata": {
        "id": "kafYvqUkGAvL"
      }
    },
    {
      "cell_type": "code",
      "source": [
        "x = cars_dict.items()\n",
        "x"
      ],
      "metadata": {
        "id": "-2_GKWq6GB2D"
      },
      "execution_count": null,
      "outputs": []
    },
    {
      "cell_type": "markdown",
      "source": [
        "Para determinar si una clave específica está presente en un diccionario, usa la palabra clave in:"
      ],
      "metadata": {
        "id": "ESdPJ0boGELD"
      }
    },
    {
      "cell_type": "code",
      "source": [
        "cars_dict = {\n",
        "  \"brand\": \"Ford\",\n",
        "  \"model\": \"Mustang\",\n",
        "  \"year\": 1964\n",
        "}\n",
        "if \"model\" in cars_dict:\n",
        "  print(\"Yes, 'model' is one of the keys in the cars_dict dictionary\")"
      ],
      "metadata": {
        "id": "Zj4WLfa2GGEs"
      },
      "execution_count": null,
      "outputs": []
    },
    {
      "cell_type": "markdown",
      "source": [
        "El método pop() elimina el elemento con el nombre de clave especificado:"
      ],
      "metadata": {
        "id": "h_iU9Zi5GIAz"
      }
    },
    {
      "cell_type": "code",
      "source": [
        "cars_dict = {\n",
        "  \"brand\": \"Ford\",\n",
        "  \"model\": \"Mustang\",\n",
        "  \"year\": 1964\n",
        "}\n",
        "cars_dict.pop(\"model\")\n",
        "print(cars_dict)"
      ],
      "metadata": {
        "id": "_YIvBwKGGJND"
      },
      "execution_count": null,
      "outputs": []
    },
    {
      "cell_type": "markdown",
      "source": [
        "El método popitem() elimina el último elemento insertado"
      ],
      "metadata": {
        "id": "EYEf53cYHVaD"
      }
    },
    {
      "cell_type": "code",
      "source": [
        "cars_dict = {\n",
        "  \"brand\": \"Ford\",\n",
        "  \"model\": \"Mustang\",\n",
        "  \"year\": 1964\n",
        "}\n",
        "cars_dict.popitem()\n",
        "print(cars_dict)"
      ],
      "metadata": {
        "id": "LzELG4gMHW8j"
      },
      "execution_count": null,
      "outputs": []
    },
    {
      "cell_type": "markdown",
      "source": [
        "La palabra clave del elimina el elemento con el nombre de clave especificado:"
      ],
      "metadata": {
        "id": "J0V7n-LJHbHr"
      }
    },
    {
      "cell_type": "code",
      "source": [
        "cars_dict = {\n",
        "  \"brand\": \"Ford\",\n",
        "  \"model\": \"Mustang\",\n",
        "  \"year\": 1964\n",
        "}\n",
        "\n",
        "del cars_dict[\"model\"]\n",
        "print(cars_dict)"
      ],
      "metadata": {
        "id": "UBSPgTanHafj"
      },
      "execution_count": null,
      "outputs": []
    },
    {
      "cell_type": "markdown",
      "source": [
        "La palabra clave del también puede eliminar el diccionario por completo:"
      ],
      "metadata": {
        "id": "yYTCYJuHHnpc"
      }
    },
    {
      "cell_type": "code",
      "source": [
        "cars_dict = {\n",
        "  \"brand\": \"Ford\",\n",
        "  \"model\": \"Mustang\",\n",
        "  \"year\": 1964\n",
        "}\n",
        "del cars_dict\n",
        "\n",
        "print(cars_dict) #this will cause an error because \"thisdict\" no longer exists."
      ],
      "metadata": {
        "id": "13CtSW-oHncU"
      },
      "execution_count": null,
      "outputs": []
    },
    {
      "cell_type": "markdown",
      "source": [
        "El método clear() vacía el diccionario:"
      ],
      "metadata": {
        "id": "8LAOOliXHpb0"
      }
    },
    {
      "cell_type": "code",
      "source": [
        "cars_dict = {\n",
        "  \"brand\": \"Ford\",\n",
        "  \"model\": \"Mustang\",\n",
        "  \"year\": 1964\n",
        "}\n",
        "\n",
        "cars_dict.clear()\n",
        "print(cars_dict)"
      ],
      "metadata": {
        "id": "9SnXAZFYHsbU"
      },
      "execution_count": null,
      "outputs": []
    },
    {
      "cell_type": "code",
      "source": [
        "for x in cars_dict:\n",
        "  print(x)"
      ],
      "metadata": {
        "id": "FJf3oSzHHvQb"
      },
      "execution_count": null,
      "outputs": []
    },
    {
      "cell_type": "code",
      "source": [
        "for x in cars_dict:\n",
        "  print(cars_dict[x])"
      ],
      "metadata": {
        "id": "6r8FXLLnIHes"
      },
      "execution_count": null,
      "outputs": []
    },
    {
      "cell_type": "code",
      "source": [
        "for x in cars_dict.values():\n",
        "  print(x)"
      ],
      "metadata": {
        "id": "zWlWJEhNIH2j"
      },
      "execution_count": null,
      "outputs": []
    },
    {
      "cell_type": "code",
      "source": [
        "for x in cars_dict.keys():\n",
        "  print(x)"
      ],
      "metadata": {
        "id": "Mz570xzpIJ9U"
      },
      "execution_count": null,
      "outputs": []
    },
    {
      "cell_type": "code",
      "source": [
        "for x, y in cars_dict.items():\n",
        "  print(x, y)"
      ],
      "metadata": {
        "id": "WmG7KuYjIK3T"
      },
      "execution_count": null,
      "outputs": []
    },
    {
      "cell_type": "code",
      "source": [
        "child1 = {\n",
        "  \"name\" : \"Emil\",\n",
        "  \"year\" : 2004\n",
        "}\n",
        "child2 = {\n",
        "  \"name\" : \"Tobias\",\n",
        "  \"year\" : 2007\n",
        "}\n",
        "child3 = {\n",
        "  \"name\" : \"Linus\",\n",
        "  \"year\" : 2011\n",
        "}\n",
        "\n",
        "myfamily = {\n",
        "  \"child1\" : child1,\n",
        "  \"child2\" : child2,\n",
        "  \"child3\" : child3\n",
        "}\n",
        "\n",
        "myfamily"
      ],
      "metadata": {
        "id": "nuPpft0GISLT"
      },
      "execution_count": null,
      "outputs": []
    }
  ]
}